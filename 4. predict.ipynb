{
 "cells": [
  {
   "cell_type": "code",
   "execution_count": 28,
   "metadata": {},
   "outputs": [],
   "source": [
    "import os\n",
    "import numpy as np\n",
    "import pandas as pd\n",
    "\n",
    "import joblib\n",
    "\n",
    "from utils import get_features, text_embedding\n",
    "\n",
    "from keras.models import load_model\n",
    "from sentence_transformers import SentenceTransformer"
   ]
  },
  {
   "cell_type": "code",
   "execution_count": 31,
   "metadata": {},
   "outputs": [],
   "source": [
    "current_path=os.getcwd().replace(\"\\\\\", \"/\").replace(\"c:\", \"C:\")\n",
    "data_path=current_path+\"/wavFiles/\"\n",
    "model_path=current_path+\"/model/\""
   ]
  },
  {
   "cell_type": "code",
   "execution_count": 32,
   "metadata": {},
   "outputs": [],
   "source": [
    "label=pd.read_csv(current_path+\"/wav_df.csv\")\n",
    "label.rename(columns={\"filename\":\"wav_id\", \"label\":\"final_label\"}, inplace=True)"
   ]
  },
  {
   "cell_type": "code",
   "execution_count": 41,
   "metadata": {},
   "outputs": [],
   "source": [
    "model = load_model(model_path+'my_model.h5')\n",
    "encoder = joblib.load(model_path+'encoder.pkl')\n",
    "scaler = joblib.load(model_path+'scaler.pkl')\n",
    "with open(model_path+'text_model_name.txt', 'r') as file:\n",
    "    text_model_name = file.read().strip()"
   ]
  },
  {
   "cell_type": "code",
   "execution_count": 50,
   "metadata": {},
   "outputs": [],
   "source": [
    "file_name='301_AUDIO_112268.0_113068.0_SPLIT.wav'\n",
    "new_audio_path = data_path+file_name\n",
    "new_audio_features = get_features(new_audio_path)\n",
    "new_audio_features_df = pd.DataFrame([new_audio_features])\n",
    "\n",
    "new_audio_features_df['wav_id']=file_name\n",
    "new_audio_features_df['final_label']=label[label['wav_id']==file_name]['final_label'].values[0]\n",
    "new_audio_features_df['sentence']=label[label['wav_id']==file_name]['sentence'].values[0]"
   ]
  },
  {
   "cell_type": "code",
   "execution_count": 51,
   "metadata": {},
   "outputs": [
    {
     "name": "stdout",
     "output_type": "stream",
     "text": [
      "1/1 [==============================] - 0s 21ms/step\n"
     ]
    }
   ],
   "source": [
    "txt_embed = text_embedding(model_name = text_model_name)\n",
    "new_audio_features_df = txt_embed.transform(new_audio_features_df)\n",
    "\n",
    "# 특징 표준화\n",
    "new_audio_features_scaled = scaler.transform(new_audio_features_df)\n",
    "\n",
    "# 모델에 맞게 차원 확장\n",
    "new_audio_features_scaled = np.expand_dims(new_audio_features_scaled, axis=2)\n",
    "\n",
    "# 예측 수행\n",
    "prediction = model.predict(new_audio_features_scaled)\n",
    "predicted_label = np.argmax(prediction, axis=1)"
   ]
  },
  {
   "cell_type": "code",
   "execution_count": 52,
   "metadata": {},
   "outputs": [
    {
     "data": {
      "text/plain": [
       "array([0], dtype=int64)"
      ]
     },
     "execution_count": 52,
     "metadata": {},
     "output_type": "execute_result"
    }
   ],
   "source": [
    "predicted_label"
   ]
  },
  {
   "cell_type": "code",
   "execution_count": null,
   "metadata": {},
   "outputs": [],
   "source": []
  }
 ],
 "metadata": {
  "kernelspec": {
   "display_name": "cpuvenv",
   "language": "python",
   "name": "python3"
  },
  "language_info": {
   "codemirror_mode": {
    "name": "ipython",
    "version": 3
   },
   "file_extension": ".py",
   "mimetype": "text/x-python",
   "name": "python",
   "nbconvert_exporter": "python",
   "pygments_lexer": "ipython3",
   "version": "3.10.13"
  }
 },
 "nbformat": 4,
 "nbformat_minor": 2
}
