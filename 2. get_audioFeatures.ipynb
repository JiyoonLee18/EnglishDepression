{
 "cells": [
  {
   "cell_type": "code",
   "execution_count": 7,
   "metadata": {},
   "outputs": [],
   "source": [
    "import os\n",
    "import shutil\n",
    "from glob import glob\n",
    "import pandas as pd\n",
    "from tqdm import tqdm\n",
    "import numpy as np\n",
    "\n",
    "import librosa\n",
    "import librosa.display\n",
    "from IPython.display import Audio"
   ]
  },
  {
   "cell_type": "code",
   "execution_count": 2,
   "metadata": {},
   "outputs": [],
   "source": [
    "current_path=os.getcwd().replace(\"\\\\\", \"/\").replace(\"c:\", \"C:\")\n",
    "wav_path=current_path+'/wavFiles/'"
   ]
  },
  {
   "cell_type": "code",
   "execution_count": 3,
   "metadata": {},
   "outputs": [],
   "source": [
    "wav_df=pd.read_csv(current_path+\"/wav_df.csv\")"
   ]
  },
  {
   "cell_type": "code",
   "execution_count": 5,
   "metadata": {},
   "outputs": [],
   "source": [
    "def noise(data):\n",
    "    noise_amp = 0.035*np.random.uniform()*np.amax(data)\n",
    "    data = data + noise_amp*np.random.normal(size=data.shape[0])\n",
    "    return data\n",
    "\n",
    "def stretch(data, rate=0.8):\n",
    "    return librosa.effects.time_stretch(data, rate=0.8)\n",
    "\n",
    "def shift(data):\n",
    "    shift_range = int(np.random.uniform(low=-5, high = 5)*1000)\n",
    "    return np.roll(data, shift_range)\n",
    "\n",
    "def pitch(data, sampling_rate):\n",
    "    return librosa.effects.pitch_shift(data,sr=sampling_rate, n_steps=1)"
   ]
  },
  {
   "cell_type": "code",
   "execution_count": 6,
   "metadata": {},
   "outputs": [],
   "source": [
    "def extract_features(data, sample_rate):\n",
    "    # ZCR\n",
    "    result = np.array([])\n",
    "    zcr = np.mean(librosa.feature.zero_crossing_rate(y=data).T, axis=0)\n",
    "    result=np.hstack((result, zcr)) # stacking horizontally\n",
    "\n",
    "    # Chroma_stft\n",
    "    stft = np.abs(librosa.stft(data))\n",
    "    chroma_stft = np.mean(librosa.feature.chroma_stft(S=stft, sr=sample_rate).T, axis=0)\n",
    "    result = np.hstack((result, chroma_stft)) # stacking horizontally\n",
    "\n",
    "    # MFCC\n",
    "    mfcc = np.mean(librosa.feature.mfcc(y=data, sr=sample_rate).T, axis=0)\n",
    "    result = np.hstack((result, mfcc)) # stacking horizontally\n",
    "\n",
    "    # Root Mean Square Value\n",
    "    rms = np.mean(librosa.feature.rms(y=data).T, axis=0)\n",
    "    result = np.hstack((result, rms)) # stacking horizontally\n",
    "\n",
    "    # MelSpectogram\n",
    "    mel = np.mean(librosa.feature.melspectrogram(y=data, sr=sample_rate).T, axis=0)\n",
    "    result = np.hstack((result, mel)) # stacking horizontally\n",
    "\n",
    "    return result"
   ]
  },
  {
   "cell_type": "code",
   "execution_count": 8,
   "metadata": {},
   "outputs": [],
   "source": [
    "def get_features(path):\n",
    "\n",
    "    data, sample_rate = librosa.load(path, duration=2.5, offset=0.0)\n",
    "\n",
    "    # without augmentation\n",
    "    res1 = extract_features(data, sample_rate)\n",
    "    result = np.array(res1)\n",
    "\n",
    "    # data with noise\n",
    "    noise_data = noise(data)\n",
    "    res2 = extract_features(noise_data, sample_rate)\n",
    "    result = np.concatenate((result, res2), axis = 0)\n",
    "\n",
    "    # data with stretching and pitching\n",
    "    new_data = stretch(data)\n",
    "    data_stretch_pitch = pitch(new_data, sample_rate)\n",
    "    res3 = extract_features(data_stretch_pitch, sample_rate)\n",
    "    result = np.concatenate((result, res3), axis = 0)\n",
    "\n",
    "    return result"
   ]
  },
  {
   "cell_type": "code",
   "execution_count": 9,
   "metadata": {},
   "outputs": [
    {
     "data": {
      "text/html": [
       "<div>\n",
       "<style scoped>\n",
       "    .dataframe tbody tr th:only-of-type {\n",
       "        vertical-align: middle;\n",
       "    }\n",
       "\n",
       "    .dataframe tbody tr th {\n",
       "        vertical-align: top;\n",
       "    }\n",
       "\n",
       "    .dataframe thead th {\n",
       "        text-align: right;\n",
       "    }\n",
       "</style>\n",
       "<table border=\"1\" class=\"dataframe\">\n",
       "  <thead>\n",
       "    <tr style=\"text-align: right;\">\n",
       "      <th></th>\n",
       "      <th>filename</th>\n",
       "      <th>label</th>\n",
       "      <th>sentence</th>\n",
       "    </tr>\n",
       "  </thead>\n",
       "  <tbody>\n",
       "    <tr>\n",
       "      <th>0</th>\n",
       "      <td>301_AUDIO_112268.0_113068.0_SPLIT.wav</td>\n",
       "      <td>0</td>\n",
       "      <td>the traffic</td>\n",
       "    </tr>\n",
       "    <tr>\n",
       "      <th>1</th>\n",
       "      <td>301_AUDIO_116188.0_122918.0_SPLIT.wav</td>\n",
       "      <td>0</td>\n",
       "      <td>the traffic is horrible well probably traffic ...</td>\n",
       "    </tr>\n",
       "    <tr>\n",
       "      <th>2</th>\n",
       "      <td>301_AUDIO_126698.0_135338.0_SPLIT.wav</td>\n",
       "      <td>0</td>\n",
       "      <td>not really i mean i have enough things going o...</td>\n",
       "    </tr>\n",
       "    <tr>\n",
       "      <th>3</th>\n",
       "      <td>301_AUDIO_142168.0_144338.0_SPLIT.wav</td>\n",
       "      <td>0</td>\n",
       "      <td>i studied uh business</td>\n",
       "    </tr>\n",
       "    <tr>\n",
       "      <th>4</th>\n",
       "      <td>301_AUDIO_145058.0_145518.0_SPLIT.wav</td>\n",
       "      <td>0</td>\n",
       "      <td>i did</td>\n",
       "    </tr>\n",
       "  </tbody>\n",
       "</table>\n",
       "</div>"
      ],
      "text/plain": [
       "                                filename  label  \\\n",
       "0  301_AUDIO_112268.0_113068.0_SPLIT.wav      0   \n",
       "1  301_AUDIO_116188.0_122918.0_SPLIT.wav      0   \n",
       "2  301_AUDIO_126698.0_135338.0_SPLIT.wav      0   \n",
       "3  301_AUDIO_142168.0_144338.0_SPLIT.wav      0   \n",
       "4  301_AUDIO_145058.0_145518.0_SPLIT.wav      0   \n",
       "\n",
       "                                            sentence  \n",
       "0                                        the traffic  \n",
       "1  the traffic is horrible well probably traffic ...  \n",
       "2  not really i mean i have enough things going o...  \n",
       "3                              i studied uh business  \n",
       "4                                              i did  "
      ]
     },
     "execution_count": 9,
     "metadata": {},
     "output_type": "execute_result"
    }
   ],
   "source": [
    "wav_df.head()"
   ]
  },
  {
   "cell_type": "code",
   "execution_count": 10,
   "metadata": {},
   "outputs": [
    {
     "data": {
      "text/plain": [
       "'C:/Users/82105/Desktop/코드/english_depression/wavFiles/'"
      ]
     },
     "execution_count": 10,
     "metadata": {},
     "output_type": "execute_result"
    }
   ],
   "source": [
    "wav_path"
   ]
  },
  {
   "cell_type": "code",
   "execution_count": 12,
   "metadata": {},
   "outputs": [
    {
     "name": "stderr",
     "output_type": "stream",
     "text": [
      " 92%|█████████▏| 5292/5729 [07:16<00:13, 31.94it/s]"
     ]
    },
    {
     "name": "stdout",
     "output_type": "stream",
     "text": [
      "Error processing file 473_AUDIO_242325.0_247795.0_SPLIT.wav: can't extend empty axis 0 using modes other than 'constant' or 'empty'\n",
      "Error processing file 473_AUDIO_314305.0_315055.0_SPLIT.wav: can't extend empty axis 0 using modes other than 'constant' or 'empty'\n",
      "Error processing file 473_AUDIO_320425.0_321875.0_SPLIT.wav: can't extend empty axis 0 using modes other than 'constant' or 'empty'\n",
      "Error processing file 473_AUDIO_418215.0_420295.0_SPLIT.wav: can't extend empty axis 0 using modes other than 'constant' or 'empty'\n",
      "Error processing file 473_AUDIO_424695.0_428795.0_SPLIT.wav: can't extend empty axis 0 using modes other than 'constant' or 'empty'\n",
      "Error processing file 473_AUDIO_471545.0_472765.0_SPLIT.wav: can't extend empty axis 0 using modes other than 'constant' or 'empty'\n",
      "Error processing file 473_AUDIO_482835.0_483765.0_SPLIT.wav: can't extend empty axis 0 using modes other than 'constant' or 'empty'\n",
      "Error processing file 473_AUDIO_497315.0_498255.0_SPLIT.wav: can't extend empty axis 0 using modes other than 'constant' or 'empty'\n"
     ]
    },
    {
     "name": "stderr",
     "output_type": "stream",
     "text": [
      "100%|██████████| 5729/5729 [07:51<00:00, 12.14it/s]\n"
     ]
    }
   ],
   "source": [
    "X_audio, Y = [], []\n",
    "for path, label in tqdm(zip(wav_df['filename'], wav_df['label']), total=len(wav_df)):\n",
    "    try:\n",
    "        audio_features = get_features(wav_path + path)\n",
    "        X_audio.append(audio_features)\n",
    "        Y.append(label)\n",
    "    except ValueError as e:\n",
    "        print(f\"Error processing file {path}: {e}\")"
   ]
  },
  {
   "cell_type": "code",
   "execution_count": 14,
   "metadata": {},
   "outputs": [],
   "source": [
    "audio_features = pd.DataFrame(X_audio)"
   ]
  },
  {
   "cell_type": "code",
   "execution_count": 20,
   "metadata": {},
   "outputs": [
    {
     "data": {
      "text/plain": [
       "(5729, (5721, 486), 5721)"
      ]
     },
     "execution_count": 20,
     "metadata": {},
     "output_type": "execute_result"
    }
   ],
   "source": [
    "len(wav_df), audio_features.shape, len(Y)"
   ]
  },
  {
   "cell_type": "code",
   "execution_count": 15,
   "metadata": {},
   "outputs": [],
   "source": [
    "for i in audio_features.columns:\n",
    "  if audio_features[i].isnull().sum()!=0:\n",
    "    print(i)"
   ]
  },
  {
   "cell_type": "code",
   "execution_count": 25,
   "metadata": {},
   "outputs": [],
   "source": [
    "probelm_list=[\"473_AUDIO_242325.0_247795.0_SPLIT.wav\", \"473_AUDIO_314305.0_315055.0_SPLIT.wav\", \n",
    "              \"473_AUDIO_320425.0_321875.0_SPLIT.wav\", \"473_AUDIO_418215.0_420295.0_SPLIT.wav\",\n",
    "              \"473_AUDIO_424695.0_428795.0_SPLIT.wav\", \"473_AUDIO_471545.0_472765.0_SPLIT.wav\",\n",
    "              \"473_AUDIO_482835.0_483765.0_SPLIT.wav\", \"473_AUDIO_497315.0_498255.0_SPLIT.wav\"]"
   ]
  },
  {
   "cell_type": "code",
   "execution_count": 28,
   "metadata": {},
   "outputs": [],
   "source": [
    "wav_df=wav_df[~wav_df[\"filename\"].isin(probelm_list)]"
   ]
  },
  {
   "cell_type": "code",
   "execution_count": 29,
   "metadata": {},
   "outputs": [],
   "source": [
    "audio_features.reset_index(inplace=True, drop=True)\n",
    "wav_df.reset_index(inplace=True, drop=True)"
   ]
  },
  {
   "cell_type": "code",
   "execution_count": 32,
   "metadata": {},
   "outputs": [],
   "source": [
    "final_df=pd.concat([audio_features, wav_df], axis=1)\n",
    "final_df.to_csv(current_path+'/final_df.csv', index=False)"
   ]
  },
  {
   "cell_type": "code",
   "execution_count": null,
   "metadata": {},
   "outputs": [],
   "source": []
  }
 ],
 "metadata": {
  "kernelspec": {
   "display_name": "torch",
   "language": "python",
   "name": "python3"
  },
  "language_info": {
   "codemirror_mode": {
    "name": "ipython",
    "version": 3
   },
   "file_extension": ".py",
   "mimetype": "text/x-python",
   "name": "python",
   "nbconvert_exporter": "python",
   "pygments_lexer": "ipython3",
   "version": "3.10.13"
  }
 },
 "nbformat": 4,
 "nbformat_minor": 2
}
