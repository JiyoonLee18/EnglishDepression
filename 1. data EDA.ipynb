{
 "cells": [
  {
   "cell_type": "code",
   "execution_count": 89,
   "metadata": {},
   "outputs": [],
   "source": [
    "import os\n",
    "import shutil\n",
    "from glob import glob\n",
    "import pandas as pd\n",
    "from tqdm import tqdm"
   ]
  },
  {
   "cell_type": "code",
   "execution_count": 3,
   "metadata": {},
   "outputs": [],
   "source": [
    "current_path=os.getcwd().replace(\"\\\\\", \"/\").replace(\"c:\", \"C:\")\n",
    "wav_path=current_path+'/wavFiles/'\n",
    "trans_path=current_path+\"/transcripts/\"\n",
    "dev_path=current_path+\"/\"+\"dev_split_Depression_AVEC2017.csv\"\n",
    "test_path=current_path+\"/\"+\"full_test_split.csv\"\n",
    "train_path=current_path+\"/\"+\"train_split_Depression_AVEC2017.csv\"\n",
    "\n",
    "dev_df=pd.read_csv(dev_path)\n",
    "test_df=pd.read_csv(test_path)\n",
    "train_df=pd.read_csv(train_path)\n",
    "\n",
    "wav_list=glob(wav_path+\"*\")\n",
    "\n",
    "test_df=test_df[['Participant_ID', 'PHQ_Binary', 'PHQ_Score', 'Gender']]\n",
    "test_df.columns=['Participant_ID', 'PHQ8_Binary', 'PHQ8_Score', 'Gender']\n",
    "train_df=train_df[['Participant_ID', 'PHQ8_Binary', 'PHQ8_Score', 'Gender']]\n",
    "dev_df=dev_df[['Participant_ID', 'PHQ8_Binary', 'PHQ8_Score', 'Gender']]"
   ]
  },
  {
   "cell_type": "code",
   "execution_count": 75,
   "metadata": {},
   "outputs": [],
   "source": [
    "id_list=[]\n",
    "for w in wav_list:\n",
    "    num=int(w.split(\"wavFiles\\\\\")[-1].split(\"_\")[0])\n",
    "    id_list.append(num)\n",
    "id_list=list(set(id_list))"
   ]
  },
  {
   "cell_type": "code",
   "execution_count": 90,
   "metadata": {},
   "outputs": [
    {
     "data": {
      "text/plain": [
       "(188, (35, 4), (47, 4), (107, 4))"
      ]
     },
     "execution_count": 90,
     "metadata": {},
     "output_type": "execute_result"
    }
   ],
   "source": [
    "len(id_list), dev_df.shape, test_df.shape, train_df.shape"
   ]
  },
  {
   "cell_type": "code",
   "execution_count": 81,
   "metadata": {},
   "outputs": [],
   "source": [
    "total=pd.concat([dev_df, test_df, train_df])\n",
    "total[\"Participant_ID\"].nunique(), total.shape\n",
    "total=total[total[\"Participant_ID\"].isin(id_list)] #아마 다운로드 과정에서 누락된듯 300번\n",
    "total.reset_index(inplace=True, drop=True)"
   ]
  },
  {
   "cell_type": "code",
   "execution_count": 129,
   "metadata": {},
   "outputs": [
    {
     "data": {
      "text/plain": [
       "'C:/Users/82105/Desktop/코드/english_depression'"
      ]
     },
     "execution_count": 129,
     "metadata": {},
     "output_type": "execute_result"
    }
   ],
   "source": [
    "current_path"
   ]
  },
  {
   "cell_type": "code",
   "execution_count": 133,
   "metadata": {},
   "outputs": [],
   "source": [
    "# total.to_csv(current_path+\"/\"+\"total.csv\", index=False)\n",
    "# total=pd.read_csv(current_path+\"/\"+\"total.csv\")"
   ]
  },
  {
   "cell_type": "markdown",
   "metadata": {},
   "source": [
    "### 이 모양으로 만들자\n",
    "- wav_df = pd.DataFrame(\n",
    "    {'wav_id': wav_list_tmp_id,\n",
    "     'final_label': wav_list_tmp_label,\n",
    "     'sentence': wav_list_tmp_sentence\n",
    "    })"
   ]
  },
  {
   "cell_type": "markdown",
   "metadata": {},
   "source": [
    "#### transcripts 전처리\n",
    "- tmp[\"start_time\"]=tmp[\"start_time\"].apply(lambda x:str(x).replace(\".\",\"\")+\".0\")\n",
    "- tmp[\"stop_time\"]=tmp[\"stop_time\"].apply(lambda x:str(x).replace(\".\",\"\")+\".0\")"
   ]
  },
  {
   "cell_type": "code",
   "execution_count": 113,
   "metadata": {},
   "outputs": [],
   "source": [
    "trans_files=glob(trans_path+\"*\")\n",
    "new_trans_path=current_path+\"/newTransripts/\""
   ]
  },
  {
   "cell_type": "code",
   "execution_count": 121,
   "metadata": {},
   "outputs": [
    {
     "name": "stderr",
     "output_type": "stream",
     "text": [
      "100%|██████████| 189/189 [00:01<00:00, 97.51it/s]\n"
     ]
    }
   ],
   "source": [
    "for t in tqdm(trans_files):\n",
    "    filename=t.split(\"\\\\\")[-1]\n",
    "    tmp=pd.read_csv(t, sep=\"\\t\")\n",
    "    tmp[\"start_time\"]=tmp[\"start_time\"].apply(lambda x:str(x).replace(\".\",\"\")+\".0\")\n",
    "    tmp[\"stop_time\"]=tmp[\"stop_time\"].apply(lambda x:str(x).replace(\".\",\"\")+\".0\")\n",
    "    tmp.to_csv(new_trans_path+filename, index=False)"
   ]
  },
  {
   "cell_type": "markdown",
   "metadata": {},
   "source": [
    "#### wav_df 만들기"
   ]
  },
  {
   "cell_type": "code",
   "execution_count": 189,
   "metadata": {},
   "outputs": [
    {
     "name": "stderr",
     "output_type": "stream",
     "text": [
      "100%|██████████| 32718/32718 [00:37<00:00, 878.09it/s] \n"
     ]
    }
   ],
   "source": [
    "tmp_list=[]\n",
    "for w in tqdm(wav_list):\n",
    "    try:\n",
    "        fullname=w.split(\"wavFiles\\\\\")[-1]\n",
    "        id=fullname.split(\"_\")[0]\n",
    "        start_time=fullname.split(\"_\")[2]\n",
    "        start_time=float(start_time.split(\".\")[0]+\".0\")\n",
    "        stop_time=fullname.split(\"_\")[3]\n",
    "        stop_time=float(stop_time.split(\".\")[0]+\".0\")\n",
    "        tmp=pd.read_csv(new_trans_path+id+\"_TRANSCRIPT.csv\")\n",
    "        sentence=tmp[(tmp[\"start_time\"]==start_time)&(tmp[\"stop_time\"]==stop_time)][\"value\"].values[0]\n",
    "        \n",
    "        label=total[total[\"Participant_ID\"]==int(id)][\"PHQ8_Binary\"].values[0]\n",
    "        \n",
    "        tmp_list.append([fullname, label, sentence])\n",
    "    except:\n",
    "        pass"
   ]
  },
  {
   "cell_type": "code",
   "execution_count": 190,
   "metadata": {},
   "outputs": [],
   "source": [
    "wav_df=pd.DataFrame(tmp_list, columns=[\"filename\", \"label\", \"sentence\"])"
   ]
  },
  {
   "cell_type": "code",
   "execution_count": 192,
   "metadata": {},
   "outputs": [
    {
     "data": {
      "text/plain": [
       "label\n",
       "0    3880\n",
       "1    1849\n",
       "Name: count, dtype: int64"
      ]
     },
     "execution_count": 192,
     "metadata": {},
     "output_type": "execute_result"
    }
   ],
   "source": [
    "wav_df[\"label\"].value_counts()"
   ]
  },
  {
   "cell_type": "code",
   "execution_count": 193,
   "metadata": {},
   "outputs": [],
   "source": [
    "wav_df.to_csv(current_path+\"wav_df\", index=False)"
   ]
  },
  {
   "cell_type": "code",
   "execution_count": null,
   "metadata": {},
   "outputs": [],
   "source": []
  }
 ],
 "metadata": {
  "kernelspec": {
   "display_name": "torch",
   "language": "python",
   "name": "python3"
  },
  "language_info": {
   "codemirror_mode": {
    "name": "ipython",
    "version": 3
   },
   "file_extension": ".py",
   "mimetype": "text/x-python",
   "name": "python",
   "nbconvert_exporter": "python",
   "pygments_lexer": "ipython3",
   "version": "3.10.13"
  }
 },
 "nbformat": 4,
 "nbformat_minor": 2
}
